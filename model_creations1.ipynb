{
  "nbformat": 4,
  "nbformat_minor": 0,
  "metadata": {
    "colab": {
      "name": "model creations.ipynb",
      "provenance": [],
      "authorship_tag": "ABX9TyO//QP4krzg66c47CBvVL6d",
      "include_colab_link": true
    },
    "kernelspec": {
      "name": "python3",
      "display_name": "Python 3"
    }
  },
  "cells": [
    {
      "cell_type": "markdown",
      "metadata": {
        "id": "view-in-github",
        "colab_type": "text"
      },
      "source": [
        "<a href=\"https://colab.research.google.com/github/shreya-25/NYC-Taxi-trip-Duration/blob/main/model_creations1.ipynb\" target=\"_parent\"><img src=\"https://colab.research.google.com/assets/colab-badge.svg\" alt=\"Open In Colab\"/></a>"
      ]
    },
    {
      "cell_type": "code",
      "metadata": {
        "id": "mI_g8tHNaGkZ"
      },
      "source": [
        "%matplotlib inline\n",
        "import numpy as np \n",
        "import pandas as pd\n",
        "import datetime as dt\n",
        "import matplotlib.pyplot as plt\n",
        "from sklearn.model_selection import train_test_split\n",
        "from sklearn.linear_model import LinearRegression \n",
        "from sklearn.tree import DecisionTreeRegressor\n",
        "from sklearn.linear_model import Ridge, Lasso\n",
        "from sklearn.model_selection import KFold\n",
        "from sklearn.neighbors import KNeighborsRegressor"
      ],
      "execution_count": 2,
      "outputs": []
    },
    {
      "cell_type": "code",
      "metadata": {
        "id": "FZn_RxZHaKwU"
      },
      "source": [
        "df = pd.read_csv('nyc_taxi_trip_duration.csv')"
      ],
      "execution_count": 3,
      "outputs": []
    },
    {
      "cell_type": "markdown",
      "metadata": {
        "id": "UrgHKglY-3cF"
      },
      "source": [
        "Preprocessing & Feature Extraction\n",
        "\n",
        "Conversion of features into numeric form"
      ]
    },
    {
      "cell_type": "code",
      "metadata": {
        "id": "pvPNKVZTaN5j"
      },
      "source": [
        "# converting strings to datetime features\n",
        "df['pickup_datetime'] = pd.to_datetime(df.pickup_datetime)\n",
        "df['dropoff_datetime'] = pd.to_datetime(df.dropoff_datetime)"
      ],
      "execution_count": 4,
      "outputs": []
    },
    {
      "cell_type": "code",
      "metadata": {
        "id": "m4XGlEUMaSgW",
        "colab": {
          "base_uri": "https://localhost:8080/"
        },
        "outputId": "cac8a030-7e6a-4b5f-c66a-66b2f78187c6"
      },
      "source": [
        "# Log transform the Y values\n",
        "df_y = np.log1p(df['trip_duration'])\n",
        "\n",
        "# Add some datetime features\n",
        "df.loc[:, 'pickup_weekday'] = df['pickup_datetime'].dt.weekday\n",
        "df.loc[:, 'pickup_hour_weekofyear'] = df['pickup_datetime'].dt.weekofyear\n",
        "df.loc[:, 'pickup_hour'] = df['pickup_datetime'].dt.hour\n",
        "df.loc[:, 'pickup_minute'] = df['pickup_datetime'].dt.minute\n",
        "df.loc[:, 'pickup_dt'] = (df['pickup_datetime'] - df['pickup_datetime'].min()).dt.total_seconds()\n",
        "df.loc[:, 'pickup_week_hour'] = df['pickup_weekday'] * 24 + df['pickup_hour']\n"
      ],
      "execution_count": 5,
      "outputs": [
        {
          "output_type": "stream",
          "text": [
            "/usr/local/lib/python3.7/dist-packages/ipykernel_launcher.py:6: FutureWarning: Series.dt.weekofyear and Series.dt.week have been deprecated.  Please use Series.dt.isocalendar().week instead.\n",
            "  \n"
          ],
          "name": "stderr"
        }
      ]
    },
    {
      "cell_type": "markdown",
      "metadata": {
        "id": "uDC0YogR_01D"
      },
      "source": [
        "Eucledian Distance"
      ]
    },
    {
      "cell_type": "code",
      "metadata": {
        "id": "RYUh59x5aWLV"
      },
      "source": [
        "#displacement\n",
        "y_dist= df['pickup_longitude'] - df['dropoff_longitude']\n",
        "x_dist = df['pickup_latitude'] - df['dropoff_latitude']\n",
        "\n",
        "#square distance\n",
        "df['dist_sq'] = (y_dist ** 2) + (x_dist ** 2)\n",
        "\n",
        "#distance\n",
        "df['dist_sqrt'] = df['dist_sq'] ** 0.5\n"
      ],
      "execution_count": 6,
      "outputs": []
    },
    {
      "cell_type": "markdown",
      "metadata": {
        "id": "s-NE4Rcp_9zc"
      },
      "source": [
        "Haversine Distance\n",
        "\n",
        "The haversine formula determines the great-circle distance between two points on a sphere given their longitudes and latitudes. "
      ]
    },
    {
      "cell_type": "code",
      "metadata": {
        "id": "Tp5VL5zpaaWa"
      },
      "source": [
        "def haversine_array(lat1, lng1, lat2, lng2):\n",
        "    lat1, lng1, lat2, lng2 = map(np.radians, (lat1, lng1, lat2, lng2))\n",
        "    AVG_EARTH_RADIUS = 6371  # in km\n",
        "    lat = lat2 - lat1\n",
        "    lng = lng2 - lng1\n",
        "    d = np.sin(lat * 0.5) ** 2 + np.cos(lat1) * np.cos(lat2) * np.sin(lng * 0.5) ** 2\n",
        "    h = 2 * AVG_EARTH_RADIUS * np.arcsin(np.sqrt(d))\n",
        "    return h\n",
        "\n",
        "def direction_array(lat1, lng1, lat2, lng2):\n",
        "    AVG_EARTH_RADIUS = 6371  # in km\n",
        "    lng_delta_rad = np.radians(lng2 - lng1)\n",
        "    lat1, lng1, lat2, lng2 = map(np.radians, (lat1, lng1, lat2, lng2))\n",
        "    y = np.sin(lng_delta_rad) * np.cos(lat2)\n",
        "    x = np.cos(lat1) * np.sin(lat2) - np.sin(lat1) * np.cos(lat2) * np.cos(lng_delta_rad)\n",
        "    return np.degrees(np.arctan2(y, x))\n",
        "\n",
        "\n",
        "df['haversine_distance'] = haversine_array(df['pickup_latitude'].values, \n",
        "                                                     df['pickup_longitude'].values, \n",
        "                                                     df['dropoff_latitude'].values, \n",
        "                                                     df['dropoff_longitude'].values)\n",
        "\n",
        "\n",
        "df['direction'] = direction_array(df['pickup_latitude'].values, \n",
        "                                          df['pickup_longitude'].values, \n",
        "                                          df['dropoff_latitude'].values, \n",
        "                                          df['dropoff_longitude'].values)"
      ],
      "execution_count": 7,
      "outputs": []
    },
    {
      "cell_type": "code",
      "metadata": {
        "id": "zWTjpUe6akKZ"
      },
      "source": [
        "### Binned Coordinates ###\n",
        "df['pickup_latitude_round3'] = np.round(df['pickup_latitude'],3)\n",
        "df['pickup_longitude_round3'] = np.round(df['pickup_longitude'],3)\n",
        "\n",
        "df['dropoff_latitude_round3'] = np.round(df['dropoff_latitude'],3)\n",
        "df['dropoff_longitude_round3'] = np.round(df['dropoff_longitude'],3)"
      ],
      "execution_count": 8,
      "outputs": []
    },
    {
      "cell_type": "code",
      "metadata": {
        "id": "14FAXSg_aomy",
        "colab": {
          "base_uri": "https://localhost:8080/"
        },
        "outputId": "9f0efc0e-1268-46a0-f892-171abaca1742"
      },
      "source": [
        "df.vendor_id.value_counts()"
      ],
      "execution_count": 9,
      "outputs": [
        {
          "output_type": "execute_result",
          "data": {
            "text/plain": [
              "2    390481\n",
              "1    338841\n",
              "Name: vendor_id, dtype: int64"
            ]
          },
          "metadata": {},
          "execution_count": 9
        }
      ]
    },
    {
      "cell_type": "code",
      "metadata": {
        "id": "gCGTWSc9asqX"
      },
      "source": [
        "df['vendor_id'] = df['vendor_id'] - 1"
      ],
      "execution_count": 10,
      "outputs": []
    },
    {
      "cell_type": "code",
      "metadata": {
        "id": "80mCLyvlawFG",
        "colab": {
          "base_uri": "https://localhost:8080/"
        },
        "outputId": "0a1263d9-aede-4542-cbf2-ffecec2d719e"
      },
      "source": [
        "np.sum(pd.isnull(df))"
      ],
      "execution_count": 11,
      "outputs": [
        {
          "output_type": "execute_result",
          "data": {
            "text/plain": [
              "id                          0\n",
              "vendor_id                   0\n",
              "pickup_datetime             0\n",
              "dropoff_datetime            0\n",
              "passenger_count             0\n",
              "pickup_longitude            0\n",
              "pickup_latitude             0\n",
              "dropoff_longitude           0\n",
              "dropoff_latitude            0\n",
              "store_and_fwd_flag          0\n",
              "trip_duration               0\n",
              "pickup_weekday              0\n",
              "pickup_hour_weekofyear      0\n",
              "pickup_hour                 0\n",
              "pickup_minute               0\n",
              "pickup_dt                   0\n",
              "pickup_week_hour            0\n",
              "dist_sq                     0\n",
              "dist_sqrt                   0\n",
              "haversine_distance          0\n",
              "direction                   0\n",
              "pickup_latitude_round3      0\n",
              "pickup_longitude_round3     0\n",
              "dropoff_latitude_round3     0\n",
              "dropoff_longitude_round3    0\n",
              "dtype: int64"
            ]
          },
          "metadata": {},
          "execution_count": 11
        }
      ]
    },
    {
      "cell_type": "code",
      "metadata": {
        "id": "GuwmV8QJazps"
      },
      "source": [
        "# For a route, the total distance and travel time are not available. Hence imputed that with 0\n",
        "df.fillna(0, inplace = True)"
      ],
      "execution_count": 12,
      "outputs": []
    },
    {
      "cell_type": "code",
      "metadata": {
        "id": "IH3aj1LLa3ck"
      },
      "source": [
        "df = df.drop(['id', 'pickup_datetime', 'dropoff_datetime', 'trip_duration','store_and_fwd_flag'], axis=1)"
      ],
      "execution_count": 13,
      "outputs": []
    },
    {
      "cell_type": "code",
      "metadata": {
        "id": "Xilkbl4Ma6lm",
        "colab": {
          "base_uri": "https://localhost:8080/",
          "height": 223
        },
        "outputId": "b9edeedd-369a-4204-efdf-34b8c220d512"
      },
      "source": [
        "df.head()"
      ],
      "execution_count": 14,
      "outputs": [
        {
          "output_type": "execute_result",
          "data": {
            "text/html": [
              "<div>\n",
              "<style scoped>\n",
              "    .dataframe tbody tr th:only-of-type {\n",
              "        vertical-align: middle;\n",
              "    }\n",
              "\n",
              "    .dataframe tbody tr th {\n",
              "        vertical-align: top;\n",
              "    }\n",
              "\n",
              "    .dataframe thead th {\n",
              "        text-align: right;\n",
              "    }\n",
              "</style>\n",
              "<table border=\"1\" class=\"dataframe\">\n",
              "  <thead>\n",
              "    <tr style=\"text-align: right;\">\n",
              "      <th></th>\n",
              "      <th>vendor_id</th>\n",
              "      <th>passenger_count</th>\n",
              "      <th>pickup_longitude</th>\n",
              "      <th>pickup_latitude</th>\n",
              "      <th>dropoff_longitude</th>\n",
              "      <th>dropoff_latitude</th>\n",
              "      <th>pickup_weekday</th>\n",
              "      <th>pickup_hour_weekofyear</th>\n",
              "      <th>pickup_hour</th>\n",
              "      <th>pickup_minute</th>\n",
              "      <th>pickup_dt</th>\n",
              "      <th>pickup_week_hour</th>\n",
              "      <th>dist_sq</th>\n",
              "      <th>dist_sqrt</th>\n",
              "      <th>haversine_distance</th>\n",
              "      <th>direction</th>\n",
              "      <th>pickup_latitude_round3</th>\n",
              "      <th>pickup_longitude_round3</th>\n",
              "      <th>dropoff_latitude_round3</th>\n",
              "      <th>dropoff_longitude_round3</th>\n",
              "    </tr>\n",
              "  </thead>\n",
              "  <tbody>\n",
              "    <tr>\n",
              "      <th>0</th>\n",
              "      <td>1</td>\n",
              "      <td>1</td>\n",
              "      <td>-73.953918</td>\n",
              "      <td>40.778873</td>\n",
              "      <td>-73.963875</td>\n",
              "      <td>40.771164</td>\n",
              "      <td>0</td>\n",
              "      <td>9</td>\n",
              "      <td>16</td>\n",
              "      <td>40</td>\n",
              "      <td>5157547.0</td>\n",
              "      <td>16</td>\n",
              "      <td>0.000159</td>\n",
              "      <td>0.012592</td>\n",
              "      <td>1.199073</td>\n",
              "      <td>-135.634530</td>\n",
              "      <td>40.779</td>\n",
              "      <td>-73.954</td>\n",
              "      <td>40.771</td>\n",
              "      <td>-73.964</td>\n",
              "    </tr>\n",
              "    <tr>\n",
              "      <th>1</th>\n",
              "      <td>0</td>\n",
              "      <td>2</td>\n",
              "      <td>-73.988312</td>\n",
              "      <td>40.731743</td>\n",
              "      <td>-73.994751</td>\n",
              "      <td>40.694931</td>\n",
              "      <td>4</td>\n",
              "      <td>10</td>\n",
              "      <td>23</td>\n",
              "      <td>35</td>\n",
              "      <td>6132863.0</td>\n",
              "      <td>119</td>\n",
              "      <td>0.001397</td>\n",
              "      <td>0.037371</td>\n",
              "      <td>4.129111</td>\n",
              "      <td>-172.445217</td>\n",
              "      <td>40.732</td>\n",
              "      <td>-73.988</td>\n",
              "      <td>40.695</td>\n",
              "      <td>-73.995</td>\n",
              "    </tr>\n",
              "    <tr>\n",
              "      <th>2</th>\n",
              "      <td>1</td>\n",
              "      <td>2</td>\n",
              "      <td>-73.997314</td>\n",
              "      <td>40.721458</td>\n",
              "      <td>-73.948029</td>\n",
              "      <td>40.774918</td>\n",
              "      <td>6</td>\n",
              "      <td>7</td>\n",
              "      <td>17</td>\n",
              "      <td>59</td>\n",
              "      <td>4471099.0</td>\n",
              "      <td>161</td>\n",
              "      <td>0.005287</td>\n",
              "      <td>0.072712</td>\n",
              "      <td>7.250753</td>\n",
              "      <td>34.916093</td>\n",
              "      <td>40.721</td>\n",
              "      <td>-73.997</td>\n",
              "      <td>40.775</td>\n",
              "      <td>-73.948</td>\n",
              "    </tr>\n",
              "    <tr>\n",
              "      <th>3</th>\n",
              "      <td>1</td>\n",
              "      <td>6</td>\n",
              "      <td>-73.961670</td>\n",
              "      <td>40.759720</td>\n",
              "      <td>-73.956779</td>\n",
              "      <td>40.780628</td>\n",
              "      <td>1</td>\n",
              "      <td>1</td>\n",
              "      <td>9</td>\n",
              "      <td>44</td>\n",
              "      <td>380597.0</td>\n",
              "      <td>33</td>\n",
              "      <td>0.000461</td>\n",
              "      <td>0.021473</td>\n",
              "      <td>2.361097</td>\n",
              "      <td>10.043567</td>\n",
              "      <td>40.760</td>\n",
              "      <td>-73.962</td>\n",
              "      <td>40.781</td>\n",
              "      <td>-73.957</td>\n",
              "    </tr>\n",
              "    <tr>\n",
              "      <th>4</th>\n",
              "      <td>0</td>\n",
              "      <td>1</td>\n",
              "      <td>-74.017120</td>\n",
              "      <td>40.708469</td>\n",
              "      <td>-73.988182</td>\n",
              "      <td>40.740631</td>\n",
              "      <td>2</td>\n",
              "      <td>7</td>\n",
              "      <td>6</td>\n",
              "      <td>42</td>\n",
              "      <td>4084869.0</td>\n",
              "      <td>54</td>\n",
              "      <td>0.001872</td>\n",
              "      <td>0.043264</td>\n",
              "      <td>4.328534</td>\n",
              "      <td>34.280582</td>\n",
              "      <td>40.708</td>\n",
              "      <td>-74.017</td>\n",
              "      <td>40.741</td>\n",
              "      <td>-73.988</td>\n",
              "    </tr>\n",
              "  </tbody>\n",
              "</table>\n",
              "</div>"
            ],
            "text/plain": [
              "   vendor_id  ...  dropoff_longitude_round3\n",
              "0          1  ...                   -73.964\n",
              "1          0  ...                   -73.995\n",
              "2          1  ...                   -73.948\n",
              "3          1  ...                   -73.957\n",
              "4          0  ...                   -73.988\n",
              "\n",
              "[5 rows x 20 columns]"
            ]
          },
          "metadata": {},
          "execution_count": 14
        }
      ]
    },
    {
      "cell_type": "code",
      "metadata": {
        "id": "b9MmJAv6a-PP"
      },
      "source": [
        "from sklearn.metrics import mean_squared_error\n",
        "from math import sqrt"
      ],
      "execution_count": 15,
      "outputs": []
    },
    {
      "cell_type": "code",
      "metadata": {
        "id": "zA1MNkHNbFqH"
      },
      "source": [
        "#Splitting the data into Train and Validation set\n",
        "from sklearn.model_selection import train_test_split \n",
        "xtrain, xtest, ytrain, ytest = train_test_split(df,df_y,test_size=1/3, random_state=0)"
      ],
      "execution_count": 16,
      "outputs": []
    },
    {
      "cell_type": "code",
      "metadata": {
        "id": "94SSr7AmbI4a",
        "colab": {
          "base_uri": "https://localhost:8080/"
        },
        "outputId": "d1c61df9-1134-4f18-e51b-6c3c43c6fdb7"
      },
      "source": [
        "mean_pred = np.repeat(ytrain.mean(),len(ytest))\n",
        "\n",
        "sqrt(mean_squared_error(ytest, mean_pred))"
      ],
      "execution_count": 17,
      "outputs": [
        {
          "output_type": "execute_result",
          "data": {
            "text/plain": [
              "0.7986672307875026"
            ]
          },
          "metadata": {},
          "execution_count": 17
        }
      ]
    },
    {
      "cell_type": "code",
      "metadata": {
        "id": "M6di1IlQbMlD"
      },
      "source": [
        "def cv_score(ml_model, rstate = 11,cols = df.columns):\n",
        "    i = 1\n",
        "    cv_scores = []\n",
        "    df1 = df.copy()\n",
        "    df1 = df[cols]\n",
        "    \n",
        "    kf = KFold(n_splits=5,random_state=rstate,shuffle=True)\n",
        "    for train_index,test_index in kf.split(df1,df_y):\n",
        "        print('\\n{} of kfold {}'.format(i,kf.n_splits))\n",
        "        xtr,xvl = df1.loc[train_index],df1.loc[test_index]\n",
        "        ytr,yvl = df_y[train_index],df_y[test_index]\n",
        "\n",
        "        model = ml_model\n",
        "        model.fit(xtr, ytr)\n",
        "        train_val = model.predict(xtr)\n",
        "        pred_val = model.predict(xvl)\n",
        "        rmse_score_train = sqrt(mean_squared_error(ytr, train_val))\n",
        "        rmse_score = sqrt(mean_squared_error(yvl, pred_val))\n",
        "        sufix = \"\"\n",
        "        msg = \"\"\n",
        "        #msg += \"Train RMSE: {:.5f} \".format(rmse_score_train)\n",
        "        msg += \"Valid RMSE: {:.5f}\".format(rmse_score)\n",
        "        print(\"{}\".format(msg))\n",
        "        # Save scores\n",
        "        cv_scores.append(rmse_score)\n",
        "        i+=1\n",
        "    return cv_scores"
      ],
      "execution_count": 18,
      "outputs": []
    },
    {
      "cell_type": "code",
      "metadata": {
        "id": "DULGOg6rbQnD",
        "colab": {
          "base_uri": "https://localhost:8080/"
        },
        "outputId": "4c1d54d6-2368-4292-d104-9d1f8cfde36a"
      },
      "source": [
        "linreg_scores = cv_score(LinearRegression())"
      ],
      "execution_count": 19,
      "outputs": [
        {
          "output_type": "stream",
          "text": [
            "\n",
            "1 of kfold 5\n",
            "Valid RMSE: 0.61486\n",
            "\n",
            "2 of kfold 5\n",
            "Valid RMSE: 0.61429\n",
            "\n",
            "3 of kfold 5\n",
            "Valid RMSE: 0.67565\n",
            "\n",
            "4 of kfold 5\n",
            "Valid RMSE: 0.69657\n",
            "\n",
            "5 of kfold 5\n",
            "Valid RMSE: 0.60709\n"
          ],
          "name": "stdout"
        }
      ]
    },
    {
      "cell_type": "code",
      "metadata": {
        "id": "a_w5UyZebVMH",
        "colab": {
          "base_uri": "https://localhost:8080/"
        },
        "outputId": "d952caef-ea49-4fb0-ae25-936133858868"
      },
      "source": [
        "dtree_scores = cv_score(DecisionTreeRegressor(min_samples_leaf=25, min_samples_split=25))"
      ],
      "execution_count": 20,
      "outputs": [
        {
          "output_type": "stream",
          "text": [
            "\n",
            "1 of kfold 5\n",
            "Valid RMSE: 0.43611\n",
            "\n",
            "2 of kfold 5\n",
            "Valid RMSE: 0.43860\n",
            "\n",
            "3 of kfold 5\n",
            "Valid RMSE: 0.42820\n",
            "\n",
            "4 of kfold 5\n",
            "Valid RMSE: 0.43179\n",
            "\n",
            "5 of kfold 5\n",
            "Valid RMSE: 0.43182\n"
          ],
          "name": "stdout"
        }
      ]
    }
  ]
}