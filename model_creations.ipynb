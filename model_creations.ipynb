{
  "nbformat": 4,
  "nbformat_minor": 0,
  "metadata": {
    "colab": {
      "name": "model creations.ipynb",
      "provenance": []
    },
    "kernelspec": {
      "name": "python3",
      "display_name": "Python 3"
    }
  },
  "cells": [
    {
      "cell_type": "code",
      "metadata": {
        "id": "mI_g8tHNaGkZ"
      },
      "source": [
        "%matplotlib inline\r\n",
        "import numpy as np \r\n",
        "import pandas as pd\r\n",
        "import datetime as dt\r\n",
        "import matplotlib.pyplot as plt\r\n",
        "\r\n",
        "from sklearn.model_selection import train_test_split\r\n",
        "\r\n",
        "import warnings\r\n",
        "warnings.filterwarnings('ignore')\r\n",
        "\r\n",
        "from sklearn.linear_model import LinearRegression \r\n",
        "from sklearn.tree import DecisionTreeRegressor\r\n",
        "from sklearn.linear_model import Ridge, Lasso\r\n",
        "from sklearn.model_selection import KFold\r\n",
        "from sklearn.neighbors import KNeighborsRegressor"
      ],
      "execution_count": null,
      "outputs": []
    },
    {
      "cell_type": "code",
      "metadata": {
        "id": "FZn_RxZHaKwU"
      },
      "source": [
        "df = pd.read_csv('nyc_taxi_final.zip')"
      ],
      "execution_count": null,
      "outputs": []
    },
    {
      "cell_type": "code",
      "metadata": {
        "id": "pvPNKVZTaN5j"
      },
      "source": [
        "# converting strings to datetime features\r\n",
        "df['pickup_datetime'] = pd.to_datetime(df.pickup_datetime)\r\n",
        "df['dropoff_datetime'] = pd.to_datetime(df.dropoff_datetime)"
      ],
      "execution_count": null,
      "outputs": []
    },
    {
      "cell_type": "code",
      "metadata": {
        "id": "m4XGlEUMaSgW"
      },
      "source": [
        "# Log transform the Y values\r\n",
        "df_y = np.log1p(df['trip_duration'])\r\n",
        "\r\n",
        "# Add some datetime features\r\n",
        "df.loc[:, 'pickup_weekday'] = df['pickup_datetime'].dt.weekday\r\n",
        "df.loc[:, 'pickup_hour_weekofyear'] = df['pickup_datetime'].dt.weekofyear\r\n",
        "df.loc[:, 'pickup_hour'] = df['pickup_datetime'].dt.hour\r\n",
        "df.loc[:, 'pickup_minute'] = df['pickup_datetime'].dt.minute\r\n",
        "df.loc[:, 'pickup_dt'] = (df['pickup_datetime'] - df['pickup_datetime'].min()).dt.total_seconds()\r\n",
        "df.loc[:, 'pickup_week_hour'] = df['pickup_weekday'] * 24 + df['pickup_hour']\r\n"
      ],
      "execution_count": null,
      "outputs": []
    },
    {
      "cell_type": "code",
      "metadata": {
        "id": "RYUh59x5aWLV"
      },
      "source": [
        "#displacement\r\n",
        "y_dist= df['pickup_longitude'] - df['dropoff_longitude']\r\n",
        "x_dist = df['pickup_latitude'] - df['dropoff_latitude']\r\n",
        "\r\n",
        "#square distance\r\n",
        "df['dist_sq'] = (y_dist ** 2) + (x_dist ** 2)\r\n",
        "\r\n",
        "#distance\r\n",
        "df['dist_sqrt'] = df['dist_sq'] ** 0.5\r\n"
      ],
      "execution_count": null,
      "outputs": []
    },
    {
      "cell_type": "code",
      "metadata": {
        "id": "Tp5VL5zpaaWa"
      },
      "source": [
        "def haversine_array(lat1, lng1, lat2, lng2):\r\n",
        "    lat1, lng1, lat2, lng2 = map(np.radians, (lat1, lng1, lat2, lng2))\r\n",
        "    AVG_EARTH_RADIUS = 6371  # in km\r\n",
        "    lat = lat2 - lat1\r\n",
        "    lng = lng2 - lng1\r\n",
        "    d = np.sin(lat * 0.5) ** 2 + np.cos(lat1) * np.cos(lat2) * np.sin(lng * 0.5) ** 2\r\n",
        "    h = 2 * AVG_EARTH_RADIUS * np.arcsin(np.sqrt(d))\r\n",
        "    return h\r\n",
        "\r\n",
        "def direction_array(lat1, lng1, lat2, lng2):\r\n",
        "    AVG_EARTH_RADIUS = 6371  # in km\r\n",
        "    lng_delta_rad = np.radians(lng2 - lng1)\r\n",
        "    lat1, lng1, lat2, lng2 = map(np.radians, (lat1, lng1, lat2, lng2))\r\n",
        "    y = np.sin(lng_delta_rad) * np.cos(lat2)\r\n",
        "    x = np.cos(lat1) * np.sin(lat2) - np.sin(lat1) * np.cos(lat2) * np.cos(lng_delta_rad)\r\n",
        "    return np.degrees(np.arctan2(y, x))\r\n",
        "\r\n",
        "\r\n",
        "df['haversine_distance'] = haversine_array(df['pickup_latitude'].values, \r\n",
        "                                                     df['pickup_longitude'].values, \r\n",
        "                                                     df['dropoff_latitude'].values, \r\n",
        "                                                     df['dropoff_longitude'].values)\r\n",
        "\r\n",
        "\r\n",
        "df['direction'] = direction_array(df['pickup_latitude'].values, \r\n",
        "                                          df['pickup_longitude'].values, \r\n",
        "                                          df['dropoff_latitude'].values, \r\n",
        "                                          df['dropoff_longitude'].values)"
      ],
      "execution_count": null,
      "outputs": []
    },
    {
      "cell_type": "code",
      "metadata": {
        "id": "uyjq-qmxagcG"
      },
      "source": [
        "fr1 = pd.read_csv('osrm/fastest_routes_train_part_1.zip',\r\n",
        "                  usecols=['id', 'total_distance', 'total_travel_time'])\r\n",
        "fr2 = pd.read_csv('osrm/fastest_routes_train_part_2.zip',\r\n",
        "                  usecols=['id', 'total_distance', 'total_travel_time'])\r\n",
        "\r\n",
        "df_street_info = pd.concat((fr1, fr2))\r\n",
        "df = df.merge(df_street_info, how='left', on='id')\r\n",
        "\r\n",
        "df_street_info.head()"
      ],
      "execution_count": null,
      "outputs": []
    },
    {
      "cell_type": "code",
      "metadata": {
        "id": "zWTjpUe6akKZ"
      },
      "source": [
        "### Binned Coordinates ###\r\n",
        "df['pickup_latitude_round3'] = np.round(df['pickup_latitude'],3)\r\n",
        "df['pickup_longitude_round3'] = np.round(df['pickup_longitude'],3)\r\n",
        "\r\n",
        "df['dropoff_latitude_round3'] = np.round(df['dropoff_latitude'],3)\r\n",
        "df['dropoff_longitude_round3'] = np.round(df['dropoff_longitude'],3)"
      ],
      "execution_count": null,
      "outputs": []
    },
    {
      "cell_type": "code",
      "metadata": {
        "id": "14FAXSg_aomy"
      },
      "source": [
        "df.vendor_id.value_counts()"
      ],
      "execution_count": null,
      "outputs": []
    },
    {
      "cell_type": "code",
      "metadata": {
        "id": "gCGTWSc9asqX"
      },
      "source": [
        "df['vendor_id'] = df['vendor_id'] - 1"
      ],
      "execution_count": null,
      "outputs": []
    },
    {
      "cell_type": "code",
      "metadata": {
        "id": "80mCLyvlawFG"
      },
      "source": [
        "np.sum(pd.isnull(df))"
      ],
      "execution_count": null,
      "outputs": []
    },
    {
      "cell_type": "code",
      "metadata": {
        "id": "GuwmV8QJazps"
      },
      "source": [
        "# For a route, the total distance and travel time are not available. Let's impute that with 0\r\n",
        "df.fillna(0, inplace = True)"
      ],
      "execution_count": null,
      "outputs": []
    },
    {
      "cell_type": "code",
      "metadata": {
        "id": "IH3aj1LLa3ck"
      },
      "source": [
        "df = df.drop(['id', 'pickup_datetime', 'dropoff_datetime', 'trip_duration','store_and_fwd_flag'], axis=1)"
      ],
      "execution_count": null,
      "outputs": []
    },
    {
      "cell_type": "code",
      "metadata": {
        "id": "Xilkbl4Ma6lm"
      },
      "source": [
        "df.head()"
      ],
      "execution_count": null,
      "outputs": []
    },
    {
      "cell_type": "code",
      "metadata": {
        "id": "b9MmJAv6a-PP"
      },
      "source": [
        "from sklearn.metrics import mean_squared_error\r\n",
        "from math import sqrt"
      ],
      "execution_count": null,
      "outputs": []
    },
    {
      "cell_type": "code",
      "metadata": {
        "id": "zA1MNkHNbFqH"
      },
      "source": [
        "#Splitting the data into Train and Validation set\r\n",
        "from sklearn.model_selection import train_test_split \r\n",
        "xtrain, xtest, ytrain, ytest = train_test_split(df,df_y,test_size=1/3, random_state=0)"
      ],
      "execution_count": null,
      "outputs": []
    },
    {
      "cell_type": "code",
      "metadata": {
        "id": "94SSr7AmbI4a"
      },
      "source": [
        "mean_pred = np.repeat(ytrain.mean(),len(ytest))\r\n",
        "\r\n",
        "sqrt(mean_squared_error(ytest, mean_pred))"
      ],
      "execution_count": null,
      "outputs": []
    },
    {
      "cell_type": "code",
      "metadata": {
        "id": "M6di1IlQbMlD"
      },
      "source": [
        "def cv_score(ml_model, rstate = 11,cols = df.columns):\r\n",
        "    i = 1\r\n",
        "    cv_scores = []\r\n",
        "    df1 = df.copy()\r\n",
        "    df1 = df[cols]\r\n",
        "    \r\n",
        "    kf = KFold(n_splits=5,random_state=rstate,shuffle=True)\r\n",
        "    for train_index,test_index in kf.split(df1,df_y):\r\n",
        "        print('\\n{} of kfold {}'.format(i,kf.n_splits))\r\n",
        "        xtr,xvl = df1.loc[train_index],df1.loc[test_index]\r\n",
        "        ytr,yvl = df_y[train_index],df_y[test_index]\r\n",
        "\r\n",
        "        model = ml_model\r\n",
        "        model.fit(xtr, ytr)\r\n",
        "        train_val = model.predict(xtr)\r\n",
        "        pred_val = model.predict(xvl)\r\n",
        "        rmse_score_train = sqrt(mean_squared_error(ytr, train_val))\r\n",
        "        rmse_score = sqrt(mean_squared_error(yvl, pred_val))\r\n",
        "        sufix = \"\"\r\n",
        "        msg = \"\"\r\n",
        "        #msg += \"Train RMSE: {:.5f} \".format(rmse_score_train)\r\n",
        "        msg += \"Valid RMSE: {:.5f}\".format(rmse_score)\r\n",
        "        print(\"{}\".format(msg))\r\n",
        "        # Save scores\r\n",
        "        cv_scores.append(rmse_score)\r\n",
        "        i+=1\r\n",
        "    return cv_scores"
      ],
      "execution_count": null,
      "outputs": []
    },
    {
      "cell_type": "code",
      "metadata": {
        "id": "DULGOg6rbQnD"
      },
      "source": [
        "linreg_scores = cv_score(LinearRegression())"
      ],
      "execution_count": null,
      "outputs": []
    },
    {
      "cell_type": "code",
      "metadata": {
        "id": "a_w5UyZebVMH"
      },
      "source": [
        "dtree_scores = cv_score(DecisionTreeRegressor(min_samples_leaf=25, min_samples_split=25))"
      ],
      "execution_count": null,
      "outputs": []
    },
    {
      "cell_type": "code",
      "metadata": {
        "id": "h5tmO4xhbZz1"
      },
      "source": [
        "results_df = pd.DataFrame({'linear_regression':linreg_scores, 'dtree': dtree_scores})"
      ],
      "execution_count": null,
      "outputs": []
    },
    {
      "cell_type": "code",
      "metadata": {
        "id": "R3JD7QUWbcfs"
      },
      "source": [
        "results_df.plot(y=[\"linear_regression\", \"dtree\"], kind=\"bar\", legend=False)\r\n",
        "plt.legend(bbox_to_anchor=(1.05, 1), loc=2, borderaxespad=0.)\r\n",
        "plt.show()"
      ],
      "execution_count": null,
      "outputs": []
    },
    {
      "cell_type": "code",
      "metadata": {
        "id": "2kppqUgqbfkV"
      },
      "source": [
        "from sklearn import tree"
      ],
      "execution_count": null,
      "outputs": []
    },
    {
      "cell_type": "code",
      "metadata": {
        "id": "YjI44HGJbjn0"
      },
      "source": [
        "decision_tree = tree.export_graphviz(dtree,out_file='tree.dot',feature_names=xtrain.columns,max_depth=2,filled=True)\r\n",
        "!dot -Tpng tree.dot -o tree.png"
      ],
      "execution_count": null,
      "outputs": []
    },
    {
      "cell_type": "code",
      "metadata": {
        "id": "47SgBRIRbmRC"
      },
      "source": [
        ""
      ],
      "execution_count": null,
      "outputs": []
    }
  ]
}