{
  "nbformat": 4,
  "nbformat_minor": 0,
  "metadata": {
    "colab": {
      "name": "EDA.ipynb",
      "provenance": []
    },
    "kernelspec": {
      "name": "python3",
      "display_name": "Python 3"
    }
  },
  "cells": [
    {
      "cell_type": "code",
      "metadata": {
        "id": "kXV2x4KxV2wH"
      },
      "source": [
        "%matplotlib inline\r\n",
        "import numpy as np\r\n",
        "import pandas as pd\r\n",
        "from datetime import timedelta\r\n",
        "import datetime as dt\r\n",
        "import matplotlib.pyplot as plt\r\n",
        "import seaborn as sns\r\n",
        "from sklearn.model_selection import train_test_split\r\n",
        "import warnings\r\n",
        "warnings.filterwarnings('ignore')"
      ],
      "execution_count": null,
      "outputs": []
    },
    {
      "cell_type": "code",
      "metadata": {
        "id": "pY45-a0sV5SE"
      },
      "source": [
        "df = pd.read_csv('nyc_taxi_final.zip')"
      ],
      "execution_count": null,
      "outputs": []
    },
    {
      "cell_type": "code",
      "metadata": {
        "id": "19LDVnW3V8eD"
      },
      "source": [
        "print('We have {} rows.'.format(df.shape[0]))\r\n",
        "print('We have {} columns'.format(df.shape[1]))\r\n",
        "df.iloc[1,:]"
      ],
      "execution_count": null,
      "outputs": []
    },
    {
      "cell_type": "code",
      "metadata": {
        "id": "RCw3E5xFWAx3"
      },
      "source": [
        "np.sum(pd.isnull(df))"
      ],
      "execution_count": null,
      "outputs": []
    },
    {
      "cell_type": "code",
      "metadata": {
        "id": "K3zee8LRWDt5"
      },
      "source": [
        "# converting strings to datetime features\r\n",
        "df['pickup_datetime'] = pd.to_datetime(df.pickup_datetime)\r\n",
        "df['dropoff_datetime'] = pd.to_datetime(df.dropoff_datetime)\r\n",
        "\r\n",
        "# Converting yes/no flag to 1 and 0\r\n",
        "df['store_and_fwd_flag'] = 1 * (df.store_and_fwd_flag.values == 'Y')\r\n",
        "\r\n",
        "df['check_trip_duration'] = (df['dropoff_datetime'] - df['pickup_datetime']).map(lambda x: x.total_seconds())\r\n",
        "\r\n",
        "duration_difference = df[np.abs(df['check_trip_duration'].values  - df['trip_duration'].values) > 1]\r\n",
        "duration_difference.shape"
      ],
      "execution_count": null,
      "outputs": []
    },
    {
      "cell_type": "code",
      "metadata": {
        "id": "10ttPdq3WH6_"
      },
      "source": [
        "df['trip_duration'].describe()/3600 # Trip duration in hours"
      ],
      "execution_count": null,
      "outputs": []
    },
    {
      "cell_type": "code",
      "metadata": {
        "id": "gjGp2qzPWL0I"
      },
      "source": [
        "df['log_trip_duration'] = np.log(df['trip_duration'].values + 1)\r\n",
        "sns.distplot(df['log_trip_duration'], kde = False, bins = 200)\r\n",
        "plt.show()"
      ],
      "execution_count": null,
      "outputs": []
    },
    {
      "cell_type": "code",
      "metadata": {
        "id": "mEF94o-QWQCS"
      },
      "source": [
        "# Binary Features\r\n",
        "plt.figure(figsize=(22, 6))\r\n",
        "#fig, axs = plt.subplot(ncols=2)\r\n",
        "\r\n",
        "# Passenger Count\r\n",
        "plt.subplot(131)\r\n",
        "sns.countplot(df['passenger_count'])\r\n",
        "plt.xlabel('Passenger Count')\r\n",
        "plt.ylabel('Frequency')\r\n",
        "\r\n",
        "\r\n",
        "# vendor_id\r\n",
        "plt.subplot(132)\r\n",
        "sns.countplot(df['vendor_id'])\r\n",
        "plt.xlabel('vendor_id')\r\n",
        "plt.ylabel('Frequency')\r\n",
        "\r\n",
        "# store_and_fwd_flag\r\n",
        "plt.subplot(133)\r\n",
        "sns.countplot(df['store_and_fwd_flag'])\r\n",
        "plt.xlabel('store_and_fwd_flag')\r\n",
        "plt.ylabel('Frequency')\r\n"
      ],
      "execution_count": null,
      "outputs": []
    },
    {
      "cell_type": "code",
      "metadata": {
        "id": "bfX8e-gmWY1E"
      },
      "source": [
        "df['pickup_datetime'].min(), df['pickup_datetime'].max()"
      ],
      "execution_count": null,
      "outputs": []
    },
    {
      "cell_type": "code",
      "metadata": {
        "id": "OdJw1MSaWdTD"
      },
      "source": [
        "df['day_of_week'] = df['pickup_datetime'].dt.weekday\r\n",
        "df['hour_of_day'] = df['pickup_datetime'].dt.hour"
      ],
      "execution_count": null,
      "outputs": []
    },
    {
      "cell_type": "code",
      "metadata": {
        "id": "_mGhAcI0Whuj"
      },
      "source": [
        "# Datetime features\r\n",
        "plt.figure(figsize=(22, 6))\r\n",
        "\r\n",
        "# Passenger Count\r\n",
        "plt.subplot(121)\r\n",
        "sns.countplot(df['day_of_week'])\r\n",
        "plt.xlabel('Week Day')\r\n",
        "plt.ylabel('Total Number of pickups')\r\n",
        "\r\n",
        "# vendor_id\r\n",
        "plt.subplot(122)\r\n",
        "sns.countplot(df['hour_of_day'])\r\n",
        "plt.xlabel('Hour of Day')\r\n",
        "plt.ylabel('Total number of pickups')\r\n"
      ],
      "execution_count": null,
      "outputs": []
    },
    {
      "cell_type": "code",
      "metadata": {
        "id": "a7tO0nxiWl7l"
      },
      "source": [
        "f, axes = plt.subplots(2,2,figsize=(10, 10), sharex=False, sharey = False)\r\n",
        "sns.despine(left=True)\r\n",
        "sns.distplot(df['pickup_latitude'].values, label = 'pickup_latitude',color=\"b\",bins = 100, ax=axes[0,0])\r\n",
        "sns.distplot(df['pickup_longitude'].values, label = 'pickup_longitude',color=\"r\",bins =100, ax=axes[1,0])\r\n",
        "sns.distplot(df['dropoff_latitude'].values, label = 'dropoff_latitude',color=\"b\",bins =100, ax=axes[0,1])\r\n",
        "sns.distplot(df['dropoff_longitude'].values, label = 'dropoff_longitude',color=\"r\",bins =100, ax=axes[1,1])\r\n",
        "plt.setp(axes, yticks=[])\r\n",
        "plt.tight_layout()\r\n",
        "plt.show()"
      ],
      "execution_count": null,
      "outputs": []
    },
    {
      "cell_type": "code",
      "metadata": {
        "id": "SsXbgztyWq6R"
      },
      "source": [
        "df = df.loc[(df.pickup_latitude > 40.6) & (df.pickup_latitude < 40.9)]\r\n",
        "df = df.loc[(df.dropoff_latitude>40.6) & (df.dropoff_latitude < 40.9)]\r\n",
        "df = df.loc[(df.dropoff_longitude > -74.05) & (df.dropoff_longitude < -73.7)]\r\n",
        "df = df.loc[(df.pickup_longitude > -74.05) & (df.pickup_longitude < -73.7)]\r\n",
        "df_data_new = df.copy()\r\n",
        "sns.set(style=\"white\", palette=\"muted\", color_codes=True)\r\n",
        "f, axes = plt.subplots(2,2,figsize=(10, 10), sharex=False, sharey = False)#\r\n",
        "sns.despine(left=True)\r\n",
        "sns.distplot(df_data_new['pickup_latitude'].values, label = 'pickup_latitude',color=\"b\",bins = 100, ax=axes[0,0])\r\n",
        "sns.distplot(df_data_new['pickup_longitude'].values, label = 'pickup_longitude',color=\"r\",bins =100, ax=axes[0,1])\r\n",
        "sns.distplot(df_data_new['dropoff_latitude'].values, label = 'dropoff_latitude',color=\"b\",bins =100, ax=axes[1, 0])\r\n",
        "sns.distplot(df_data_new['dropoff_longitude'].values, label = 'dropoff_longitude',color=\"r\",bins =100, ax=axes[1, 1])\r\n",
        "plt.setp(axes, yticks=[])\r\n",
        "plt.tight_layout()\r\n",
        "\r\n",
        "plt.show()"
      ],
      "execution_count": null,
      "outputs": []
    },
    {
      "cell_type": "code",
      "metadata": {
        "id": "eUboe3LIWul_"
      },
      "source": [
        "df.columns"
      ],
      "execution_count": null,
      "outputs": []
    },
    {
      "cell_type": "code",
      "metadata": {
        "id": "i-CoNwEzW0sM"
      },
      "source": [
        "summary_wdays_avg_duration = pd.DataFrame(df.groupby(['day_of_week'])['trip_duration'].median())\r\n",
        "summary_wdays_avg_duration.reset_index(inplace = True)\r\n",
        "summary_wdays_avg_duration['unit']=1\r\n",
        "\r\n",
        "sns.set(style=\"white\", palette=\"muted\", color_codes=True)\r\n",
        "sns.set_context(\"poster\")\r\n",
        "sns.tsplot(data=summary_wdays_avg_duration, time=\"day_of_week\", unit = \"unit\", value=\"trip_duration\")\r\n",
        "sns.despine(bottom = False)"
      ],
      "execution_count": null,
      "outputs": []
    },
    {
      "cell_type": "code",
      "metadata": {
        "id": "zH_zD59tW5Yi"
      },
      "source": [
        "summary_hourly_avg_duration = pd.DataFrame(df.groupby(['hour_of_day'])['trip_duration'].median())\r\n",
        "summary_hourly_avg_duration.reset_index(inplace = True)\r\n",
        "summary_hourly_avg_duration['unit']=1\r\n",
        "\r\n",
        "sns.set(style=\"white\", palette=\"muted\", color_codes=True)\r\n",
        "sns.set_context(\"poster\")\r\n",
        "sns.tsplot(data=summary_hourly_avg_duration, time=\"hour_of_day\", unit = \"unit\", value=\"trip_duration\")\r\n",
        "sns.despine(bottom = False)"
      ],
      "execution_count": null,
      "outputs": []
    },
    {
      "cell_type": "code",
      "metadata": {
        "id": "ws4Uz3TBW9Ba"
      },
      "source": [
        "plt.figure(figsize=(22, 6))\r\n",
        "sns.boxplot(x=\"vendor_id\", y=\"trip_duration\", data=df)\r\n",
        "plt.show()"
      ],
      "execution_count": null,
      "outputs": []
    },
    {
      "cell_type": "code",
      "metadata": {
        "id": "t27DeZLuXDeB"
      },
      "source": [
        "plt.figure(figsize=(22, 6))\r\n",
        "df_sub = df[df['trip_duration'] < 50000]\r\n",
        "sns.boxplot(x=\"vendor_id\", y=\"trip_duration\", data=df_sub)\r\n",
        "plt.show()"
      ],
      "execution_count": null,
      "outputs": []
    },
    {
      "cell_type": "code",
      "metadata": {
        "id": "p-GfCpCgXHMu"
      },
      "source": [
        "summary_wdays_avg_duration = pd.DataFrame(df.groupby(['vendor_id','day_of_week'])['trip_duration'].mean())\r\n",
        "summary_wdays_avg_duration.reset_index(inplace = True)\r\n",
        "summary_wdays_avg_duration['unit']=1\r\n",
        "\r\n",
        "sns.set(style=\"white\", palette=\"muted\", color_codes=True)\r\n",
        "sns.set_context(\"poster\")\r\n",
        "sns.tsplot(data=summary_wdays_avg_duration, time=\"day_of_week\", unit = \"unit\", condition=\"vendor_id\", value=\"trip_duration\")\r\n",
        "sns.despine(bottom = False)\r\n"
      ],
      "execution_count": null,
      "outputs": []
    },
    {
      "cell_type": "code",
      "metadata": {
        "id": "A94qCVRaXL9O"
      },
      "source": [
        "summary_wdays_avg_duration = pd.DataFrame(df.groupby(['vendor_id','day_of_week'])['trip_duration'].median())\r\n",
        "summary_wdays_avg_duration.reset_index(inplace = True)\r\n",
        "summary_wdays_avg_duration['unit']=1\r\n",
        "\r\n",
        "sns.set(style=\"white\", palette=\"muted\", color_codes=True)\r\n",
        "sns.set_context(\"poster\")\r\n",
        "sns.tsplot(data=summary_wdays_avg_duration, time=\"day_of_week\", unit = \"unit\", condition=\"vendor_id\", value=\"trip_duration\")\r\n",
        "sns.despine(bottom = False)\r\n"
      ],
      "execution_count": null,
      "outputs": []
    },
    {
      "cell_type": "code",
      "metadata": {
        "id": "7XLRYo5XXRay"
      },
      "source": [
        "df.passenger_count.value_counts()"
      ],
      "execution_count": null,
      "outputs": []
    },
    {
      "cell_type": "code",
      "metadata": {
        "id": "Y1tGTe6GXVpv"
      },
      "source": [
        "df.passenger_count.value_counts()\r\n",
        "plt.figure(figsize=(22, 6))\r\n",
        "df_sub = df[df['trip_duration'] < 10000]\r\n",
        "sns.boxplot(x=\"passenger_count\", y=\"trip_duration\", data=df_sub)\r\n",
        "plt.show()"
      ],
      "execution_count": null,
      "outputs": []
    },
    {
      "cell_type": "code",
      "metadata": {
        "id": "PzUvXc1PXYNk"
      },
      "source": [
        "rgb = np.zeros((3000, 3500, 3), dtype=np.uint8)\r\n",
        "rgb[..., 0] = 0\r\n",
        "rgb[..., 1] = 0\r\n",
        "rgb[..., 2] = 0\r\n",
        "df_data_new['pick_lat_new'] = list(map(int, (df['pickup_latitude'] - (40.6000))*10000))\r\n",
        "df_data_new['drop_lat_new'] = list(map(int, (df['dropoff_latitude'] - (40.6000))*10000))\r\n",
        "df_data_new['pick_lon_new'] = list(map(int, (df['pickup_longitude'] - (-74.050))*10000))\r\n",
        "df_data_new['drop_lon_new'] = list(map(int,(df['dropoff_longitude'] - (-74.050))*10000))\r\n",
        "\r\n",
        "summary_plot = pd.DataFrame(df_data_new.groupby(['pick_lat_new', 'pick_lon_new'])['id'].count())\r\n",
        "\r\n",
        "summary_plot.reset_index(inplace = True)\r\n",
        "summary_plot.head(120)\r\n",
        "lat_list = summary_plot['pick_lat_new'].unique()\r\n",
        "for i in lat_list:\r\n",
        "    lon_list = summary_plot.loc[summary_plot['pick_lat_new']==i]['pick_lon_new'].tolist()\r\n",
        "    unit = summary_plot.loc[summary_plot['pick_lat_new']==i]['id'].tolist()\r\n",
        "    for j in lon_list:\r\n",
        "        a = unit[lon_list.index(j)]\r\n",
        "        if (a//25) >0:\r\n",
        "            rgb[i][j][0] = 255\r\n",
        "            rgb[i,j, 1] = 0\r\n",
        "            rgb[i,j, 2] = 0\r\n",
        "        elif (a//10)>0:\r\n",
        "            rgb[i,j, 0] = 0\r\n",
        "            rgb[i,j, 1] = 255\r\n",
        "            rgb[i,j, 2] = 0\r\n",
        "        else:\r\n",
        "            rgb[i,j, 0] = 255\r\n",
        "            rgb[i,j, 1] = 255\r\n",
        "            rgb[i,j, 2] = 255\r\n",
        "fig, ax = plt.subplots(nrows=1,ncols=1,figsize=(14,20))\r\n",
        "ax.imshow(rgb, cmap = 'hot')\r\n",
        "ax.set_axis_off() "
      ],
      "execution_count": null,
      "outputs": []
    },
    {
      "cell_type": "code",
      "metadata": {
        "id": "AfOMAiioXdz7"
      },
      "source": [
        "plt.figure(figsize=(12, 6))\r\n",
        "df = df.drop(['id', 'pickup_datetime', 'dropoff_datetime',\r\n",
        "       'passenger_count','check_trip_duration','log_trip_duration'],\r\n",
        "        axis=1)\r\n",
        "corr = df.apply(lambda x: pd.factorize(x)[0]).corr()\r\n",
        "ax = sns.heatmap(corr, xticklabels=corr.columns, yticklabels=corr.columns, \r\n",
        "                 linewidths=.2, cmap=\"YlGnBu\")"
      ],
      "execution_count": null,
      "outputs": []
    }
  ]
}